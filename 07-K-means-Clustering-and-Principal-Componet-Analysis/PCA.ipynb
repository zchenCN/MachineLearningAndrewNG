{
 "cells": [
  {
   "cell_type": "code",
   "execution_count": 1,
   "id": "f1f98462",
   "metadata": {},
   "outputs": [],
   "source": [
    "import numpy as np\n",
    "import matplotlib.pyplot as plt"
   ]
  },
  {
   "cell_type": "code",
   "execution_count": 15,
   "id": "3c34c9db",
   "metadata": {},
   "outputs": [],
   "source": [
    "def featureNormalize(X):\n",
    "    \"\"\"Normalize the data and scaling each dimension\n",
    "    so that they are in the same range\n",
    "    \"\"\"\n",
    "    mu = np.mean(X, axis=0, keepdims=True)\n",
    "    sigma = np.sqrt(np.var(X, axis=0, keepdims=True))\n",
    "    return (X - mu) / sigma"
   ]
  },
  {
   "cell_type": "code",
   "execution_count": 16,
   "id": "e1bbce9b",
   "metadata": {},
   "outputs": [],
   "source": [
    "def pac(X):\n",
    "    \"\"\"Run principal component analysis on the dataset X\n",
    "    \"\"\"\n",
    "    m = X.shape[0]\n",
    "    Sigma = np.mm(X.T, X) / m\n",
    "    U, s, V = np.linalg.svd(Sigma)\n",
    "    return U, s"
   ]
  },
  {
   "cell_type": "code",
   "execution_count": 17,
   "id": "bed2b8d5",
   "metadata": {},
   "outputs": [],
   "source": [
    "def projectData(X, U, K):\n",
    "    \"\"\"Project data to low dimension\n",
    "    \"\"\"\n",
    "    Z = X.dot(U[:, :K])\n",
    "    return Z"
   ]
  },
  {
   "cell_type": "code",
   "execution_count": 18,
   "id": "0f7d3b52",
   "metadata": {},
   "outputs": [],
   "source": [
    "def recover_data(Z, U, K):\n",
    "    X = Z.dot(U[:, :K].T)\n",
    "    return X"
   ]
  },
  {
   "cell_type": "code",
   "execution_count": null,
   "id": "a71bb411",
   "metadata": {},
   "outputs": [],
   "source": []
  }
 ],
 "metadata": {
  "kernelspec": {
   "display_name": "Python 3 (ipykernel)",
   "language": "python",
   "name": "python3"
  },
  "language_info": {
   "codemirror_mode": {
    "name": "ipython",
    "version": 3
   },
   "file_extension": ".py",
   "mimetype": "text/x-python",
   "name": "python",
   "nbconvert_exporter": "python",
   "pygments_lexer": "ipython3",
   "version": "3.7.10"
  }
 },
 "nbformat": 4,
 "nbformat_minor": 5
}
